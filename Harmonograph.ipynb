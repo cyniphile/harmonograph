{
 "cells": [
  {
   "cell_type": "code",
   "execution_count": 10,
   "metadata": {},
   "outputs": [],
   "source": [
    "import pygame\n",
    "import numpy as np\n",
    "\n",
    "pygame.init()\n",
    "\n",
    "BLACK = [0, 0, 0]\n",
    "WHITE = [255, 255, 255]\n",
    "SIZE = [1000, 1000]\n",
    "\n",
    "screen = pygame.display.set_mode(SIZE)\n",
    "\n",
    "clock = pygame.time.Clock()\n",
    "\n",
    "# Loop until the user clicks the close button.\n",
    "done = False\n",
    "\n",
    "start_pos = [int(SIZE[0]//2), int(SIZE[1]//2)]\n",
    "AMPLITUDE_X = 300\n",
    "AMPLITUDE_Y = 280\n",
    "PHASE = .5\n",
    "PERIOD_X = 1.01\n",
    "PERIOD_Y = 1\n",
    "DECAY = 0.01\n",
    "\n",
    "start_time = pygame.time.get_ticks()\n",
    "points = []\n",
    "while not done:\n",
    "\n",
    "    for event in pygame.event.get():   # User did something\n",
    "        if event.type == pygame.QUIT:  # If user clicked close\n",
    "            done = True   # Flag that we are done so we exit this loop\n",
    "\n",
    "    screen.fill(BLACK)\n",
    "\n",
    "    if len(points) > 1:\n",
    "        pygame.draw.aalines(screen, WHITE, 0, points)\n",
    "\n",
    "    t = (pygame.time.get_ticks() - start_time) / 1000\n",
    "    decay_coeff = 1 - t * DECAY\n",
    "\n",
    "    new_point = start_pos.copy()\n",
    "    new_point[0] += int(round(\n",
    "        decay_coeff * AMPLITUDE_X * np.cos((t + PHASE) / PERIOD_X)\n",
    "    ))\n",
    "    new_point[1] += int(round(\n",
    "        decay_coeff * AMPLITUDE_Y * np.cos(t / PERIOD_Y)\n",
    "    ))\n",
    "    points.append(new_point)\n",
    "    pygame.display.flip()\n",
    "    clock.tick(20)\n",
    "pygame.quit()"
   ]
  }
 ],
 "metadata": {
  "kernelspec": {
   "display_name": "harmonograph",
   "language": "python",
   "name": "harmonograph"
  },
  "language_info": {
   "codemirror_mode": {
    "name": "ipython",
    "version": 3
   },
   "file_extension": ".py",
   "mimetype": "text/x-python",
   "name": "python",
   "nbconvert_exporter": "python",
   "pygments_lexer": "ipython3",
   "version": "3.6.5"
  }
 },
 "nbformat": 4,
 "nbformat_minor": 2
}

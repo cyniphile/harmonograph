{
 "cells": [
  {
   "cell_type": "code",
   "execution_count": 2,
   "metadata": {},
   "outputs": [
    {
     "ename": "AttributeError",
     "evalue": "module 'pygame' has no attribute 'initinit'",
     "output_type": "error",
     "traceback": [
      "\u001b[0;31m---------------------------------------------------------------------------\u001b[0m",
      "\u001b[0;31mAttributeError\u001b[0m                            Traceback (most recent call last)",
      "\u001b[0;32m<ipython-input-2-98ddd5f24dd2>\u001b[0m in \u001b[0;36m<module>\u001b[0;34m()\u001b[0m\n\u001b[1;32m      3\u001b[0m \u001b[0;32mfrom\u001b[0m \u001b[0mpygame\u001b[0m\u001b[0;34m.\u001b[0m\u001b[0mlocals\u001b[0m \u001b[0;32mimport\u001b[0m  \u001b[0;34m*\u001b[0m\u001b[0;34m\u001b[0m\u001b[0m\n\u001b[1;32m      4\u001b[0m \u001b[0;34m\u001b[0m\u001b[0m\n\u001b[0;32m----> 5\u001b[0;31m \u001b[0mpygame\u001b[0m\u001b[0;34m.\u001b[0m\u001b[0minitinit\u001b[0m\u001b[0;34m(\u001b[0m\u001b[0;34m)\u001b[0m\u001b[0;34m\u001b[0m\u001b[0m\n\u001b[0m\u001b[1;32m      6\u001b[0m \u001b[0;34m\u001b[0m\u001b[0m\n\u001b[1;32m      7\u001b[0m \u001b[0mFPS\u001b[0m \u001b[0;34m=\u001b[0m\u001b[0;36m60\u001b[0m\u001b[0;34m\u001b[0m\u001b[0m\n",
      "\u001b[0;31mAttributeError\u001b[0m: module 'pygame' has no attribute 'initinit'"
     ]
    }
   ],
   "source": [
    "\n",
    "import pygame, sys\n",
    "from pygame.locals import  *\n",
    "\n",
    "pygame.init()\n",
    "\n",
    "FPS =60\n",
    "WIDTH = 600\n",
    "HEIGHT =  500\n",
    "fpsClock = pygame.time.Clock()\n",
    "DISPLAYSURF = pygame.display.set_mode((WIDTH, HEIGHT), 0, 32)\n",
    "WHITE = (255, 255, 255)\n",
    "BLACK = (0, 0, 0)\n",
    "ballx = WIDTH / 2\n",
    "bally = HEIGHT / 2\n",
    "ball_vel = [1, 1]\n",
    "ball_pos =(ballx, bally)\n",
    "RADIUS = 20\n",
    "\n",
    "# Game Loop:\n",
    "while True:\n",
    "    # Check for quit event\n",
    "    for event in pygame.event.get():\n",
    "        if event.type == pygame.QUIT:\n",
    "            pygame.quit()\n",
    "            sys.exit()\n",
    "\n",
    "    # Erase the screen (I have tried with and without this step)\n",
    "    DISPLAYSURF.fill(BLACK)\n",
    "\n",
    "    # Update circle position\n",
    "    ballx += ball_vel[0]\n",
    "    bally += ball_vel[1]\n",
    "    ball_pos =(ballx, bally)\n",
    "\n",
    "    # Draw Circle (I have tried with and without locks/unlocks)\n",
    "    pygame.draw.circle(DISPLAYSURF, WHITE, ball_pos, RADIUS, 2)\n",
    "\n",
    "    # Update the screen\n",
    "    pygame.display.flip()\n",
    "    fpsClock.tick()"
   ]
  },
  {
   "cell_type": "code",
   "execution_count": null,
   "metadata": {},
   "outputs": [],
   "source": []
  }
 ],
 "metadata": {
  "kernelspec": {
   "display_name": "harmonograph",
   "language": "python",
   "name": "harmonograph"
  },
  "language_info": {
   "codemirror_mode": {
    "name": "ipython",
    "version": 3
   },
   "file_extension": ".py",
   "mimetype": "text/x-python",
   "name": "python",
   "nbconvert_exporter": "python",
   "pygments_lexer": "ipython3",
   "version": "3.6.5"
  }
 },
 "nbformat": 4,
 "nbformat_minor": 2
}
